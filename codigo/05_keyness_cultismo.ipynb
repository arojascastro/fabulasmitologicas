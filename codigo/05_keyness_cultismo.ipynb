{
 "cells": [
  {
   "cell_type": "markdown",
   "id": "20913c70",
   "metadata": {},
   "source": [
    "# 05_keyness_cultismo.ipynb\n",
    "**Lexical Keyness & Cultismo Frequencies**\n",
    "\n",
    "Strip extensions on token filenames when loading existing counts."
   ]
  },
  {
   "cell_type": "code",
   "execution_count": 23,
   "id": "1b264ca7",
   "metadata": {},
   "outputs": [],
   "source": [
    "from pathlib import Path\n",
    "\n",
    "def setup_project_paths():\n",
    "    current_dir = Path().cwd()\n",
    "    base_path = current_dir.parent if current_dir.name == 'codigo' else current_dir\n",
    "    input_path = base_path / 'corpus' / 'tei'\n",
    "    output_path = base_path / 'resultados' / 'computational-analysis'\n",
    "    return base_path, input_path, output_path\n",
    "\n",
    "BASE_PATH, INPUT_PATH, OUTPUT_PATH = setup_project_paths()"
   ]
  },
  {
   "cell_type": "code",
   "execution_count": 24,
   "id": "46bc9016",
   "metadata": {},
   "outputs": [
    {
     "name": "stdout",
     "output_type": "stream",
     "text": [
      "Loaded and normalized token counts: (26, 2002)\n",
      "Token filenames sample: 0    Hurtadodemendoza_fabulaadonis\n",
      "1               Polo_fabapolodafne\n",
      "2                    Carrillo_acis\n",
      "3                Cetina_amorpsique\n",
      "4               Villamediana_fenix\n",
      "Name: filename, dtype: object\n",
      "Cluster filenames sample: 0      Barahona_acteon\n",
      "1    Barahona_vertumno\n",
      "2     Bermudez_narciso\n",
      "3     Bocangel_leandro\n",
      "4        Carrillo_acis\n",
      "Name: filename, dtype: object\n",
      "Merged shape: (26, 2003)\n",
      "Terms count: 2001\n",
      "Saved keyness_scores.csv\n"
     ]
    }
   ],
   "source": [
    "import pandas as pd\n",
    "import re\n",
    "import math\n",
    "from sklearn.feature_extraction.text import CountVectorizer\n",
    "\n",
    "# Paths\n",
    "csv_folder = OUTPUT_PATH / 'corpus_summary' / 'csv'\n",
    "ext_folder = OUTPUT_PATH / 'extensions'\n",
    "ext_folder.mkdir(parents=True, exist_ok=True)\n",
    "\n",
    "# Load clusters\n",
    "clust_df = pd.read_csv(csv_folder / 'clustered_features.csv')\n",
    "key_col = clust_df.columns[0]\n",
    "clust_df = clust_df.rename(columns={key_col: 'raw_filename'})\n",
    "clust_df['filename'] = clust_df['raw_filename'].str.replace(r'\\.xml$|\\.txt$', '', regex=True)\n",
    "\n",
    "# Load or generate token counts\n",
    "lex_path = csv_folder / 'corpus_lexical_counts.csv'\n",
    "if not lex_path.exists():\n",
    "    raw_df = pd.read_csv(csv_folder / 'raw_texts.csv').rename(columns={'Unnamed: 0':'raw_filename'})\n",
    "    raw_df['filename'] = raw_df['raw_filename'].str.replace(r'\\.xml$|\\.txt$', '', regex=True)\n",
    "    clean_texts = raw_df['text'].astype(str).apply(lambda x: re.sub(r'<[^>]+>', ' ', x)).str.lower()\n",
    "    vec = CountVectorizer(max_features=2000, stop_words='spanish', token_pattern=r\"(?u)\\b\\w\\w+\\b\")\n",
    "    X = vec.fit_transform(clean_texts)\n",
    "    df_tokens = pd.DataFrame(X.toarray(), columns=vec.get_feature_names_out())\n",
    "    df_tokens.insert(0, 'filename', raw_df['filename'])\n",
    "    df_tokens.to_csv(lex_path, index=False)\n",
    "    print(\"Generated\", lex_path, \"with shape\", df_tokens.shape)\n",
    "else:\n",
    "    df_tokens = pd.read_csv(lex_path)\n",
    "    # Strip extensions in existing token filenames\n",
    "    if 'filename' in df_tokens.columns:\n",
    "        df_tokens['filename'] = df_tokens['filename'].str.replace(r'\\.xml$|\\.txt$', '', regex=True)\n",
    "    print(\"Loaded and normalized token counts:\", df_tokens.shape)\n",
    "\n",
    "# Diagnostics\n",
    "print(\"Token filenames sample:\", df_tokens['filename'].head())\n",
    "print(\"Cluster filenames sample:\", clust_df['filename'].head())\n",
    "\n",
    "# Merge for keyness\n",
    "merged = df_tokens.merge(clust_df[['filename','Cluster']], on='filename', how='inner')\n",
    "print(\"Merged shape:\", merged.shape)\n",
    "\n",
    "terms = [c for c in merged.columns if c not in ['filename','Cluster']]\n",
    "print(\"Terms count:\", len(terms))\n",
    "\n",
    "# Keyness\n",
    "def ll_score(k, n, K, N):\n",
    "    exp = K * n / N\n",
    "    return 2 * (k * math.log(k/exp) if k>0 else 0)\n",
    "\n",
    "N = merged.shape[0]\n",
    "results=[]\n",
    "for term in terms:\n",
    "    total_K = merged[term].sum()\n",
    "    if total_K <= 0: continue\n",
    "    for cl in sorted(merged['Cluster'].unique()):\n",
    "        sub = merged[merged['Cluster']==cl]\n",
    "        k = sub[term].sum()\n",
    "        n = sub.shape[0]\n",
    "        ll = ll_score(k,n,total_K,N)\n",
    "        if ll>0: results.append({'term':term,'Cluster':cl,'LL':ll})\n",
    "ll_df = pd.DataFrame(results)\n",
    "if ll_df.empty:\n",
    "    print(\"⚠️ No keyness entries.\")\n",
    "else:\n",
    "    ll_df = ll_df.sort_values(['Cluster','LL'], ascending=[True,False])\n",
    "    ll_df.to_csv(ext_folder/'keyness_scores.csv', index=False)\n",
    "    print(\"Saved keyness_scores.csv\")\n",
    "\n",
    "# Cultismos unchanged...\n"
   ]
  },
  {
   "cell_type": "code",
   "execution_count": null,
   "id": "b95181a2-a8fd-41d5-be06-d4da93c94e94",
   "metadata": {},
   "outputs": [],
   "source": []
  }
 ],
 "metadata": {
  "kernelspec": {
   "display_name": "Python 3 (ipykernel)",
   "language": "python",
   "name": "python3"
  },
  "language_info": {
   "codemirror_mode": {
    "name": "ipython",
    "version": 3
   },
   "file_extension": ".py",
   "mimetype": "text/x-python",
   "name": "python",
   "nbconvert_exporter": "python",
   "pygments_lexer": "ipython3",
   "version": "3.12.1"
  }
 },
 "nbformat": 4,
 "nbformat_minor": 5
}

{
 "cells": [
  {
   "cell_type": "markdown",
   "id": "85234f25",
   "metadata": {},
   "source": [
    "# 01_data_preprocessing.ipynb\n",
    "\n",
    "**Data Loading & Preprocessing**"
   ]
  },
  {
   "cell_type": "code",
   "execution_count": 1,
   "id": "634caae6",
   "metadata": {},
   "outputs": [],
   "source": [
    "from pathlib import Path\n",
    "\n",
    "def setup_project_paths():\n",
    "    current_dir = Path().cwd()\n",
    "    base_path = current_dir.parent if current_dir.name == 'codigo' else current_dir\n",
    "    input_path = base_path / 'corpus' / 'tei'\n",
    "    output_path = base_path / 'resultados' / 'computational-analysis'\n",
    "    return base_path, input_path, output_path\n",
    "\n",
    "BASE_PATH, INPUT_PATH, OUTPUT_PATH = setup_project_paths()\n",
    "\n",
    "# Create necessary output directories\n",
    "(OUTPUT_PATH / 'corpus_summary' / 'csv').mkdir(parents=True, exist_ok=True)\n",
    "(OUTPUT_PATH / 'corpus_summary' / 'visualizations').mkdir(exist_ok=True)\n"
   ]
  },
  {
   "cell_type": "code",
   "execution_count": 2,
   "id": "4239956c",
   "metadata": {},
   "outputs": [
    {
     "data": {
      "text/html": [
       "<div>\n",
       "<style scoped>\n",
       "    .dataframe tbody tr th:only-of-type {\n",
       "        vertical-align: middle;\n",
       "    }\n",
       "\n",
       "    .dataframe tbody tr th {\n",
       "        vertical-align: top;\n",
       "    }\n",
       "\n",
       "    .dataframe thead th {\n",
       "        text-align: right;\n",
       "    }\n",
       "</style>\n",
       "<table border=\"1\" class=\"dataframe\">\n",
       "  <thead>\n",
       "    <tr style=\"text-align: right;\">\n",
       "      <th></th>\n",
       "      <th>filename</th>\n",
       "      <th>text</th>\n",
       "    </tr>\n",
       "  </thead>\n",
       "  <tbody>\n",
       "    <tr>\n",
       "      <th>0</th>\n",
       "      <td>Hurtadodemendoza_fabulaadonis.xml</td>\n",
       "      <td>&lt;?xml version=\"1.0\" encoding=\"UTF-8\"?&gt;\\n&lt;?xml-...</td>\n",
       "    </tr>\n",
       "    <tr>\n",
       "      <th>1</th>\n",
       "      <td>Polo_fabapolodafne.xml</td>\n",
       "      <td>&lt;?xml version=\"1.0\" encoding=\"UTF-8\"?&gt;\\n&lt;?xml-...</td>\n",
       "    </tr>\n",
       "    <tr>\n",
       "      <th>2</th>\n",
       "      <td>Carrillo_acis.xml</td>\n",
       "      <td>&lt;?xml version=\"1.0\" encoding=\"UTF-8\"?&gt;\\n&lt;?xml-...</td>\n",
       "    </tr>\n",
       "    <tr>\n",
       "      <th>3</th>\n",
       "      <td>Cetina_amorpsique.xml</td>\n",
       "      <td>&lt;?xml version=\"1.0\" encoding=\"UTF-8\"?&gt;\\n&lt;?xml-...</td>\n",
       "    </tr>\n",
       "    <tr>\n",
       "      <th>4</th>\n",
       "      <td>Villamediana_fenix.xml</td>\n",
       "      <td>&lt;?xml version=\"1.0\" encoding=\"UTF-8\"?&gt;\\n&lt;?xml-...</td>\n",
       "    </tr>\n",
       "  </tbody>\n",
       "</table>\n",
       "</div>"
      ],
      "text/plain": [
       "                            filename  \\\n",
       "0  Hurtadodemendoza_fabulaadonis.xml   \n",
       "1             Polo_fabapolodafne.xml   \n",
       "2                  Carrillo_acis.xml   \n",
       "3              Cetina_amorpsique.xml   \n",
       "4             Villamediana_fenix.xml   \n",
       "\n",
       "                                                text  \n",
       "0  <?xml version=\"1.0\" encoding=\"UTF-8\"?>\\n<?xml-...  \n",
       "1  <?xml version=\"1.0\" encoding=\"UTF-8\"?>\\n<?xml-...  \n",
       "2  <?xml version=\"1.0\" encoding=\"UTF-8\"?>\\n<?xml-...  \n",
       "3  <?xml version=\"1.0\" encoding=\"UTF-8\"?>\\n<?xml-...  \n",
       "4  <?xml version=\"1.0\" encoding=\"UTF-8\"?>\\n<?xml-...  "
      ]
     },
     "execution_count": 2,
     "metadata": {},
     "output_type": "execute_result"
    }
   ],
   "source": [
    "import pandas as pd\n",
    "\n",
    "# Load raw texts from TEI directory\n",
    "file_paths = list(INPUT_PATH.glob(\"*.xml\"))\n",
    "texts = []\n",
    "for path in file_paths:\n",
    "    with open(path, encoding=\"utf-8\") as f:\n",
    "        texts.append({\"filename\": path.name, \"text\": f.read()})\n",
    "\n",
    "df_texts = pd.DataFrame(texts)\n",
    "df_texts.to_csv(OUTPUT_PATH / 'corpus_summary' / 'csv' / 'raw_texts.csv', index=False)\n",
    "df_texts.head()"
   ]
  },
  {
   "cell_type": "code",
   "execution_count": null,
   "id": "26f94aa6-e47e-40a5-a89e-575e5466eba1",
   "metadata": {},
   "outputs": [],
   "source": []
  }
 ],
 "metadata": {
  "kernelspec": {
   "display_name": "Python 3 (ipykernel)",
   "language": "python",
   "name": "python3"
  },
  "language_info": {
   "codemirror_mode": {
    "name": "ipython",
    "version": 3
   },
   "file_extension": ".py",
   "mimetype": "text/x-python",
   "name": "python",
   "nbconvert_exporter": "python",
   "pygments_lexer": "ipython3",
   "version": "3.12.1"
  }
 },
 "nbformat": 4,
 "nbformat_minor": 5
}

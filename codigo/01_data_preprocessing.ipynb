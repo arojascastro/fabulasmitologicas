{
 "cells": [
  {
   "cell_type": "markdown",
   "id": "81a559d5",
   "metadata": {},
   "source": [
    "# 01_data_preprocessing.ipynb\n",
    "\n",
    "**Data Loading & Preprocessing (TEI <text> extraction)**\n",
    "\n",
    "Parses each TEI XML and extracts only the content of the `<text>` element."
   ]
  },
  {
   "cell_type": "code",
   "execution_count": null,
   "id": "7a4be90b",
   "metadata": {},
   "outputs": [],
   "source": [
    "from pathlib import Path\n",
    "\n",
    "def setup_project_paths():\n",
    "    current_dir = Path().cwd()\n",
    "    base_path = current_dir.parent if current_dir.name == 'codigo' else current_dir\n",
    "    tei_dir = base_path / 'corpus' / 'tei'\n",
    "    output_dir = base_path / 'resultados' / 'computational-analysis' / 'corpus_summary' / 'csv'\n",
    "    return tei_dir, output_dir\n",
    "\n",
    "TEI_DIR, OUTPUT_DIR = setup_project_paths()\n",
    "OUTPUT_DIR.mkdir(parents=True, exist_ok=True)"
   ]
  },
  {
   "cell_type": "code",
   "execution_count": null,
   "id": "37e7dd01",
   "metadata": {},
   "outputs": [],
   "source": [
    "import pandas as pd\n",
    "from lxml import etree\n",
    "import re\n",
    "\n",
    "records = []\n",
    "for xml_file in sorted(TEI_DIR.glob(\"*.xml\")):\n",
    "    tree = etree.parse(str(xml_file))\n",
    "    ns = {'tei': 'http://www.tei-c.org/ns/1.0'}\n",
    "    # Extract all text within <text> element\n",
    "    texts = tree.xpath('//tei:text//text()', namespaces=ns)\n",
    "    # Join and normalize whitespace\n",
    "    full_text = ' '.join(texts)\n",
    "    full_text = re.sub(r\"\\s+\", ' ', full_text).strip()\n",
    "    records.append({\n",
    "        'filename': xml_file.name,\n",
    "        'text': full_text\n",
    "    })\n",
    "\n",
    "df = pd.DataFrame(records)\n",
    "# Save to CSV\n",
    "output_path = OUTPUT_DIR / 'raw_texts.csv'\n",
    "df.to_csv(output_path, index=False, encoding='utf-8')\n",
    "print(f\"Extracted <text> content from {len(df)} files to {output_path}\")\n",
    "df.head()"
   ]
  }
 ],
 "metadata": {
  "kernelspec": {
   "display_name": "Python 3 (ipykernel)",
   "language": "python",
   "name": "python3"
  },
  "language_info": {
   "codemirror_mode": {
    "name": "ipython",
    "version": 3
   },
   "file_extension": ".py",
   "mimetype": "text/x-python",
   "name": "python",
   "nbconvert_exporter": "python",
   "pygments_lexer": "ipython3",
   "version": "3.12.1"
  }
 },
 "nbformat": 4,
 "nbformat_minor": 5
}

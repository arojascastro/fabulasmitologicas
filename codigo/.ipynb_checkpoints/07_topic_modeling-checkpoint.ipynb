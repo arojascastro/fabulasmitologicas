{
 "cells": [
  {
   "cell_type": "markdown",
   "id": "cf279905",
   "metadata": {},
   "source": [
    "# 07_topic_modeling.ipynb\n",
    "\n",
    "**Topic Modeling with Latent Dirichlet Allocation (LDA)**\n",
    "\n",
    "Pre-define number of topics, fit LDA, and save outputs."
   ]
  },
  {
   "cell_type": "code",
   "execution_count": null,
   "id": "cf72e745",
   "metadata": {},
   "outputs": [],
   "source": [
    "from pathlib import Path\n",
    "\n",
    "def setup_project_paths():\n",
    "    current_dir = Path().cwd()\n",
    "    base_path = current_dir.parent if current_dir.name == 'codigo' else current_dir\n",
    "    input_path = base_path / 'corpus' / 'tei'\n",
    "    output_path = base_path / 'resultados' / 'computational-analysis'\n",
    "    return base_path, input_path, output_path\n",
    "\n",
    "BASE_PATH, INPUT_PATH, OUTPUT_PATH = setup_project_paths()"
   ]
  },
  {
   "cell_type": "code",
   "execution_count": null,
   "id": "c5f5ee3e",
   "metadata": {},
   "outputs": [],
   "source": [
    "import pandas as pd\n",
    "from sklearn.feature_extraction.text import CountVectorizer\n",
    "from sklearn.decomposition import LatentDirichletAllocation\n",
    "import matplotlib.pyplot as plt\n",
    "\n",
    "# Parameters\n",
    "n_topics = 5\n",
    "max_features = 1000\n",
    "n_top_words = 10\n",
    "\n",
    "# Load raw texts\n",
    "texts_df = pd.read_csv(OUTPUT_PATH / 'corpus_summary' / 'csv' / 'raw_texts.csv')\n",
    "documents = texts_df['text'].fillna('').tolist()\n",
    "\n",
    "# Vectorize text\n",
    "vectorizer = CountVectorizer(max_features=max_features, stop_words='spanish')\n",
    "X = vectorizer.fit_transform(documents)\n",
    "\n",
    "# Fit LDA\n",
    "lda = LatentDirichletAllocation(n_components=n_topics, random_state=42)\n",
    "lda.fit(X)\n",
    "\n",
    "# Topic-term matrix\n",
    "terms = vectorizer.get_feature_names_out()\n",
    "topic_term = pd.DataFrame(lda.components_, columns=terms)\n",
    "topic_term.to_csv(OUTPUT_PATH / 'extensions' / 'topic_term_matrix.csv', index=False)\n",
    "\n",
    "# Document-topic matrix\n",
    "doc_topic = pd.DataFrame(lda.transform(X), columns=[f'Topic{i}' for i in range(1, n_topics+1)])\n",
    "doc_topic.insert(0, 'filename', texts_df['filename'])\n",
    "doc_topic.to_csv(OUTPUT_PATH / 'extensions' / 'doc_topic_matrix.csv', index=False)\n",
    "\n",
    "# Display top words per topic\n",
    "for idx, topic in enumerate(lda.components_):\n",
    "    top_indices = topic.argsort()[-n_top_words:][::-1]\n",
    "    top_words = [terms[i] for i in top_indices]\n",
    "    print(f\"Topic {idx+1}: {', '.join(top_words)}\")\n",
    "\n",
    "# Plot bar chart for each topic's top words\n",
    "for idx, topic in enumerate(lda.components_):\n",
    "    top_indices = topic.argsort()[-n_top_words:][::-1]\n",
    "    values = topic[top_indices]\n",
    "    words = [terms[i] for i in top_indices]\n",
    "    plt.figure()\n",
    "    plt.barh(words[::-1], values[::-1])\n",
    "    plt.title(f\"Top {n_top_words} Words for Topic {idx+1}\")\n",
    "    plt.xlabel(\"Word Weight\")\n",
    "    plt.tight_layout()\n",
    "    plt.savefig(OUTPUT_PATH / 'extensions' / f'topic_{idx+1}_top_words.png')\n",
    "    plt.show()"
   ]
  }
 ],
 "metadata": {
  "kernelspec": {
   "display_name": "Python 3 (ipykernel)",
   "language": "python",
   "name": "python3"
  },
  "language_info": {
   "codemirror_mode": {
    "name": "ipython",
    "version": 3
   },
   "file_extension": ".py",
   "mimetype": "text/x-python",
   "name": "python",
   "nbconvert_exporter": "python",
   "pygments_lexer": "ipython3",
   "version": "3.12.1"
  }
 },
 "nbformat": 4,
 "nbformat_minor": 5
}

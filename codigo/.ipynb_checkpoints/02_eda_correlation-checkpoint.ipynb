{
 "cells": [
  {
   "cell_type": "markdown",
   "id": "a7a649f0",
   "metadata": {},
   "source": [
    "# 02_eda_correlation.ipynb\n",
    "**Exploratory Data Analysis & Correlations**\n",
    "With sanity checks using 'Unnamed: 0' as the key."
   ]
  },
  {
   "cell_type": "code",
   "execution_count": null,
   "id": "b085af3b",
   "metadata": {},
   "outputs": [],
   "source": [
    "from pathlib import Path\n",
    "\n",
    "def setup_project_paths():\n",
    "    current_dir = Path().cwd()\n",
    "    base_path = current_dir.parent if current_dir.name == 'codigo' else current_dir\n",
    "    input_path = base_path / 'corpus' / 'tei'\n",
    "    output_path = base_path / 'resultados' / 'computational-analysis'\n",
    "    return base_path, input_path, output_path\n",
    "\n",
    "BASE_PATH, INPUT_PATH, OUTPUT_PATH = setup_project_paths()"
   ]
  },
  {
   "cell_type": "code",
   "execution_count": null,
   "id": "9ac764f9",
   "metadata": {},
   "outputs": [],
   "source": [
    "# ---- Merge on Unnamed: 0, keeping only numeric features ----\n",
    "key = \"Unnamed: 0\"\n",
    "# Extract numeric columns for each dataframe (keeping key)\n",
    "for fname, df2 in dfs.items():\n",
    "    numeric_cols = df2.select_dtypes(include='number').columns.tolist()\n",
    "    dfs[fname] = df2[[key] + numeric_cols]\n",
    "\n",
    "# Now merge all on the key\n",
    "df = dfs[\"corpus_basic_statistics.csv\"]\n",
    "for fname, df2 in dfs.items():\n",
    "    if fname != \"corpus_basic_statistics.csv\":\n",
    "        df = df.merge(df2, on=key)\n",
    "\n",
    "# Plot correlation heatmap\n",
    "numeric = df.drop(columns=[key])\n",
    "corr = numeric.corr()\n",
    "plt.figure(figsize=(12,10))\n",
    "sns.heatmap(corr, cmap='coolwarm', center=0)\n",
    "plt.title('Feature Correlation Matrix')\n",
    "plt.savefig(OUTPUT_PATH / 'corpus_summary' / 'visualizations' / 'correlation_heatmap.png')\n",
    "plt.show()"
   ]
  }
 ],
 "metadata": {
  "kernelspec": {
   "display_name": "Python 3 (ipykernel)",
   "language": "python",
   "name": "python3"
  },
  "language_info": {
   "codemirror_mode": {
    "name": "ipython",
    "version": 3
   },
   "file_extension": ".py",
   "mimetype": "text/x-python",
   "name": "python",
   "nbconvert_exporter": "python",
   "pygments_lexer": "ipython3",
   "version": "3.12.1"
  }
 },
 "nbformat": 4,
 "nbformat_minor": 5
}

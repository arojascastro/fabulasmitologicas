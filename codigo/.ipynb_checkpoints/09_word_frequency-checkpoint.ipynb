{
 "cells": [
  {
   "cell_type": "markdown",
   "id": "75cb9ca3",
   "metadata": {},
   "source": [
    "# 09_word_frequency.ipynb\n",
    "\n",
    "**Word Frequency Before and After Lemmatization**"
   ]
  },
  {
   "cell_type": "code",
   "execution_count": null,
   "id": "3779274f",
   "metadata": {},
   "outputs": [],
   "source": [
    "from pathlib import Path\n",
    "\n",
    "def setup_project_paths():\n",
    "    current_dir = Path().cwd()\n",
    "    base_path = current_dir.parent if current_dir.name == 'codigo' else current_dir\n",
    "    tei_dir = base_path / 'corpus' / 'tei'\n",
    "    csv_dir = base_path / 'resultados' / 'computational-analysis' / 'corpus_summary' / 'csv'\n",
    "    ext_dir = base_path / 'resultados' / 'computational-analysis' / 'extensions'\n",
    "    csv_dir.mkdir(parents=True, exist_ok=True)\n",
    "    ext_dir.mkdir(parents=True, exist_ok=True)\n",
    "    return tei_dir, csv_dir, ext_dir\n",
    "\n",
    "TEI_DIR, CSV_DIR, EXT_DIR = setup_project_paths()"
   ]
  },
  {
   "cell_type": "code",
   "execution_count": null,
   "id": "86d79e34",
   "metadata": {},
   "outputs": [],
   "source": [
    "import pandas as pd\n",
    "import re\n",
    "import spacy\n",
    "from collections import Counter\n",
    "import matplotlib.pyplot as plt\n",
    "\n",
    "# Load spaCy Spanish model\n",
    "nlp = spacy.load('es_core_news_sm')\n",
    "\n",
    "# Load raw texts\n",
    "texts_df = pd.read_csv(CSV_DIR / 'raw_texts.csv')\n",
    "docs = texts_df['text'].astype(str).tolist()\n",
    "\n",
    "# Tokenize without lemmatization\n",
    "tokens_raw = []\n",
    "for doc in docs:\n",
    "    words = re.findall(r'\\b\\w\\w+\\b', doc.lower())\n",
    "    tokens_raw.extend(words)\n",
    "\n",
    "# Lemmatize\n",
    "tokens_lemma = []\n",
    "for doc in docs:\n",
    "    doc_sp = nlp(doc)\n",
    "    tokens_lemma.extend([token.lemma_.lower() for token in doc_sp if token.is_alpha])\n",
    "\n",
    "# Frequency counts\n",
    "freq_raw = Counter(tokens_raw)\n",
    "freq_lemma = Counter(tokens_lemma)\n",
    "\n",
    "# Most and least frequent 20 raw\n",
    "most_raw = freq_raw.most_common(20)\n",
    "least_raw = freq_raw.most_common()[:-21:-1]\n",
    "\n",
    "# Most and least frequent 20 lemma\n",
    "most_lemma = freq_lemma.most_common(20)\n",
    "least_lemma = freq_lemma.most_common()[:-21:-1]\n",
    "\n",
    "# Save to CSV\n",
    "pd.DataFrame(most_raw, columns=['word','count']).to_csv(EXT_DIR / 'most_raw.csv', index=False)\n",
    "pd.DataFrame(least_raw, columns=['word','count']).to_csv(EXT_DIR / 'least_raw.csv', index=False)\n",
    "pd.DataFrame(most_lemma, columns=['word','count']).to_csv(EXT_DIR / 'most_lemma.csv', index=False)\n",
    "pd.DataFrame(least_lemma, columns=['word','count']).to_csv(EXT_DIR / 'least_lemma.csv', index=False)\n",
    "\n",
    "# Plot\n",
    "def plot_counts(df, title, fname):\n",
    "    plt.figure(figsize=(10,6))\n",
    "    plt.barh(df['word'][::-1], df['count'][::-1])\n",
    "    plt.title(title)\n",
    "    plt.tight_layout()\n",
    "    plt.savefig(EXT_DIR / fname)\n",
    "    plt.show()\n",
    "\n",
    "plot_counts(pd.DataFrame(most_raw, columns=['word','count']), 'Top 20 Raw Words', 'top20_raw.png')\n",
    "plot_counts(pd.DataFrame(least_raw, columns=['word','count']), 'Bottom 20 Raw Words', 'bottom20_raw.png')\n",
    "plot_counts(pd.DataFrame(most_lemma, columns=['word','count']), 'Top 20 Lemma Words', 'top20_lemma.png')\n",
    "plot_counts(pd.DataFrame(least_lemma, columns=['word','count']), 'Bottom 20 Lemma Words', 'bottom20_lemma.png')"
   ]
  }
 ],
 "metadata": {
  "kernelspec": {
   "display_name": "Python 3 (ipykernel)",
   "language": "python",
   "name": "python3"
  },
  "language_info": {
   "codemirror_mode": {
    "name": "ipython",
    "version": 3
   },
   "file_extension": ".py",
   "mimetype": "text/x-python",
   "name": "python",
   "nbconvert_exporter": "python",
   "pygments_lexer": "ipython3",
   "version": "3.12.1"
  }
 },
 "nbformat": 4,
 "nbformat_minor": 5
}

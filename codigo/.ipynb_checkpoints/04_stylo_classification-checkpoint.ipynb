{
 "cells": [
  {
   "cell_type": "markdown",
   "id": "c761ec10",
   "metadata": {},
   "source": [
    "# 04_stylo_classification.ipynb\n",
    "\n",
    "**Stylo‑like Hierarchical Clustering on Stylometric Features**\n",
    "\n",
    "Implements a delta‑style tree in pure Python, avoiding external stylo package."
   ]
  },
  {
   "cell_type": "code",
   "execution_count": null,
   "id": "86198a9b",
   "metadata": {},
   "outputs": [],
   "source": [
    "from pathlib import Path\n",
    "\n",
    "def setup_project_paths():\n",
    "    current_dir = Path().cwd()\n",
    "    base_path = current_dir.parent if current_dir.name == 'codigo' else current_dir\n",
    "    input_path = base_path / 'corpus' / 'tei'\n",
    "    output_path = base_path / 'resultados' / 'computational-analysis'\n",
    "    return base_path, input_path, output_path\n",
    "\n",
    "BASE_PATH, INPUT_PATH, OUTPUT_PATH = setup_project_paths()"
   ]
  },
  {
   "cell_type": "code",
   "execution_count": null,
   "id": "518de3d0",
   "metadata": {},
   "outputs": [],
   "source": [
    "import pandas as pd\n",
    "from sklearn.preprocessing import StandardScaler\n",
    "from scipy.cluster.hierarchy import linkage, dendrogram\n",
    "import matplotlib.pyplot as plt\n",
    "\n",
    "# Load stylometric features CSV\n",
    "stylopath = OUTPUT_PATH / 'corpus_summary' / 'csv' / 'corpus_stylometric_features.csv'\n",
    "df_stylo = pd.read_csv(stylopath)\n",
    "\n",
    "# Identify key column\n",
    "key = df_stylo.columns[0]\n",
    "\n",
    "# Select numeric stylometric features\n",
    "X = df_stylo.select_dtypes(include='number')\n",
    "\n",
    "# Standardize features (z-scores)\n",
    "scaler = StandardScaler()\n",
    "X_scaled = scaler.fit_transform(X)\n",
    "\n",
    "# Compute pairwise distances using Manhattan (Delta-like)\n",
    "from scipy.spatial.distance import pdist\n",
    "dist_matrix = pdist(X_scaled, metric='cityblock')\n",
    "\n",
    "# Hierarchical clustering\n",
    "Z = linkage(dist_matrix, method='ward')\n",
    "\n",
    "# Plot and save dendrogram\n",
    "plt.figure(figsize=(10,6))\n",
    "dendrogram(Z, labels=df_stylo[key].tolist(), leaf_rotation=90)\n",
    "plt.title(\"Hierarchical Clustering on Stylometric Features\")\n",
    "plt.tight_layout()\n",
    "vis_path = OUTPUT_PATH / 'individual_analyses' / 'visualizations'\n",
    "vis_path.mkdir(parents=True, exist_ok=True)\n",
    "plt.savefig(vis_path / 'delta_like_tree.png')\n",
    "plt.show()"
   ]
  }
 ],
 "metadata": {
  "kernelspec": {
   "display_name": "Python 3 (ipykernel)",
   "language": "python",
   "name": "python3"
  },
  "language_info": {
   "codemirror_mode": {
    "name": "ipython",
    "version": 3
   },
   "file_extension": ".py",
   "mimetype": "text/x-python",
   "name": "python",
   "nbconvert_exporter": "python",
   "pygments_lexer": "ipython3",
   "version": "3.12.1"
  }
 },
 "nbformat": 4,
 "nbformat_minor": 5
}

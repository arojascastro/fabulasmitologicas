{
 "cells": [
  {
   "cell_type": "markdown",
   "id": "03f9ae47",
   "metadata": {},
   "source": [
    "# 08_named_entity_recognition.ipynb\n",
    "\n",
    "**NER per Poem and Corpus**\n",
    "Extracts PERSON and LOC entities using spaCy Spanish model, counts frequencies, plots top entities."
   ]
  },
  {
   "cell_type": "code",
   "execution_count": null,
   "id": "f6d70abc",
   "metadata": {},
   "outputs": [],
   "source": [
    "from pathlib import Path\n",
    "\n",
    "def setup_project_paths():\n",
    "    current_dir = Path().cwd()\n",
    "    base_path = current_dir.parent if current_dir.name == 'codigo' else current_dir\n",
    "    tei_dir = base_path / 'corpus' / 'tei'\n",
    "    csv_dir = base_path / 'resultados' / 'computational-analysis' / 'corpus_summary' / 'csv'\n",
    "    ext_dir = base_path / 'resultados' / 'computational-analysis' / 'extensions'\n",
    "    csv_dir.mkdir(parents=True, exist_ok=True)\n",
    "    ext_dir.mkdir(parents=True, exist_ok=True)\n",
    "    return tei_dir, csv_dir, ext_dir\n",
    "\n",
    "TEI_DIR, CSV_DIR, EXT_DIR = setup_project_paths()"
   ]
  },
  {
   "cell_type": "code",
   "execution_count": null,
   "id": "c936c3fa",
   "metadata": {},
   "outputs": [],
   "source": [
    "import pandas as pd\n",
    "import spacy\n",
    "import matplotlib.pyplot as plt\n",
    "\n",
    "# Load spaCy Spanish model\n",
    "nlp = spacy.load('es_core_news_sm')\n",
    "\n",
    "# Load texts\n",
    "texts_df = pd.read_csv(CSV_DIR / 'raw_texts.csv')\n",
    "persons = []\n",
    "locs = []\n",
    "records = []\n",
    "\n",
    "# Process each poem\n",
    "for _, row in texts_df.iterrows():\n",
    "    fname = row['filename']\n",
    "    doc = nlp(row['text'])\n",
    "    pers = [ent.text for ent in doc.ents if ent.label_ == 'PER']\n",
    "    loc = [ent.text for ent in doc.ents if ent.label_ in ('LOC','GPE')]\n",
    "    records.append({\n",
    "        'filename': fname,\n",
    "        'person_count': len(pers),\n",
    "        'loc_count': len(loc)\n",
    "    })\n",
    "    persons.extend(pers)\n",
    "    locs.extend(loc)\n",
    "\n",
    "# Save per-poem counts\n",
    "pd.DataFrame(records).to_csv(EXT_DIR / 'ner_counts_per_poem.csv', index=False)\n",
    "\n",
    "# Corpus-level frequencies\n",
    "person_freq = pd.Series(persons).value_counts().reset_index()\n",
    "person_freq.columns = ['entity', 'count']\n",
    "loc_freq = pd.Series(locs).value_counts().reset_index()\n",
    "loc_freq.columns = ['entity', 'count']\n",
    "\n",
    "person_freq.to_csv(EXT_DIR / 'person_freq.csv', index=False)\n",
    "loc_freq.to_csv(EXT_DIR / 'loc_freq.csv', index=False)\n",
    "\n",
    "# Plot top 20 persons\n",
    "plt.figure(figsize=(10,6))\n",
    "plt.barh(person_freq['entity'].head(20)[::-1], person_freq['count'].head(20)[::-1])\n",
    "plt.title('Top 20 PERSON Entities')\n",
    "plt.tight_layout()\n",
    "plt.savefig(EXT_DIR / 'top20_persons.png')\n",
    "plt.show()\n",
    "\n",
    "# Plot top 20 locations\n",
    "plt.figure(figsize=(10,6))\n",
    "plt.barh(loc_freq['entity'].head(20)[::-1], loc_freq['count'].head(20)[::-1])\n",
    "plt.title('Top 20 LOC Entities')\n",
    "plt.tight_layout()\n",
    "plt.savefig(EXT_DIR / 'top20_locations.png')\n",
    "plt.show()"
   ]
  }
 ],
 "metadata": {
  "kernelspec": {
   "display_name": "Python 3 (ipykernel)",
   "language": "python",
   "name": "python3"
  },
  "language_info": {
   "codemirror_mode": {
    "name": "ipython",
    "version": 3
   },
   "file_extension": ".py",
   "mimetype": "text/x-python",
   "name": "python",
   "nbconvert_exporter": "python",
   "pygments_lexer": "ipython3",
   "version": "3.12.1"
  }
 },
 "nbformat": 4,
 "nbformat_minor": 5
}

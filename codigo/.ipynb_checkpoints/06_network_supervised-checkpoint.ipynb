{
 "cells": [
  {
   "cell_type": "markdown",
   "id": "28e765d0",
   "metadata": {},
   "source": [
    "# 06_network_supervised.ipynb\n",
    "**Network Analysis & Supervised Classification**"
   ]
  },
  {
   "cell_type": "code",
   "execution_count": null,
   "id": "e50c4054",
   "metadata": {},
   "outputs": [],
   "source": [
    "from pathlib import Path\n",
    "\n",
    "def setup_project_paths():\n",
    "    current_dir = Path().cwd()\n",
    "    base_path = current_dir.parent if current_dir.name == 'codigo' else current_dir\n",
    "    input_path = base_path / 'corpus' / 'tei'\n",
    "    output_path = base_path / 'resultados' / 'computational-analysis'\n",
    "    return base_path, input_path, output_path\n",
    "\n",
    "BASE_PATH, INPUT_PATH, OUTPUT_PATH = setup_project_paths()"
   ]
  },
  {
   "cell_type": "code",
   "execution_count": null,
   "id": "aa0abbbe",
   "metadata": {},
   "outputs": [],
   "source": [
    "import pandas as pd\n",
    "import networkx as nx\n",
    "import matplotlib.pyplot as plt\n",
    "from sklearn.model_selection import train_test_split\n",
    "from sklearn.ensemble import RandomForestClassifier\n",
    "from sklearn.metrics import classification_report\n",
    "\n",
    "sem = pd.read_csv(OUTPUT_PATH / 'corpus_summary' / 'csv' / 'corpus_semantic_fields.csv')\n",
    "clusters = pd.read_csv(OUTPUT_PATH / 'corpus_summary' / 'csv' / 'clustered_features.csv')[['author','Cluster']]\n",
    "df = sem.merge(clusters, on='author')\n",
    "fields = [c for c in sem.columns if c != 'author']\n",
    "\n",
    "G = nx.Graph()\n",
    "for _, row in df.iterrows():\n",
    "    present = [f for f in fields if row[f] > 0]\n",
    "    for i in range(len(present)):\n",
    "        for j in range(i+1,len(present)):\n",
    "            G.add_edge(present[i], present[j],\n",
    "                       weight=G.edges.get((present[i],present[j]), {}).get('weight',0)+1)\n",
    "plt.figure(figsize=(8,8))\n",
    "pos = nx.spring_layout(G, k=0.5)\n",
    "nx.draw(G, pos, with_labels=True, node_size=300, font_size=8)\n",
    "plt.title('Semantic Field Co-occurrence Network')\n",
    "plt.savefig(OUTPUT_PATH / 'extensions' / 'network.png')\n",
    "plt.show()\n",
    "\n",
    "X = df[fields]; y = df['Cluster']\n",
    "Xtr, Xte, ytr, yte = train_test_split(X, y, stratify=y, random_state=42)\n",
    "clf = RandomForestClassifier(random_state=42).fit(Xtr, ytr)\n",
    "y_pred = clf.predict(Xte)\n",
    "print(classification_report(yte, y_pred))\n",
    "pd.DataFrame(classification_report(yte, y_pred, output_dict=True)).transpose()\\\n",
    "  .to_csv(OUTPUT_PATH / 'extensions' / 'classification_report.csv')"
   ]
  }
 ],
 "metadata": {},
 "nbformat": 4,
 "nbformat_minor": 5
}
